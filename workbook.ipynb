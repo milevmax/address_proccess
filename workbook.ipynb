{
 "cells": [
  {
   "cell_type": "code",
   "id": "initial_id",
   "metadata": {
    "collapsed": true,
    "ExecuteTime": {
     "end_time": "2024-11-10T08:51:54.992048Z",
     "start_time": "2024-11-10T08:51:52.790364Z"
    }
   },
   "source": [
    "import tensorflow as tf\n",
    "import pandas as pd\n",
    "import numpy as np\n",
    "from typing import Literal\n",
    "from util import df_to_nn_model_input, df_process_address_chars, calc_similarity_pair_fuzzy\n"
   ],
   "outputs": [
    {
     "name": "stderr",
     "output_type": "stream",
     "text": [
      "2024-11-10 10:51:53.223283: I tensorflow/core/util/port.cc:113] oneDNN custom operations are on. You may see slightly different numerical results due to floating-point round-off errors from different computation orders. To turn them off, set the environment variable `TF_ENABLE_ONEDNN_OPTS=0`.\n",
      "2024-11-10 10:51:53.500422: E external/local_xla/xla/stream_executor/cuda/cuda_dnn.cc:9261] Unable to register cuDNN factory: Attempting to register factory for plugin cuDNN when one has already been registered\n",
      "2024-11-10 10:51:53.500538: E external/local_xla/xla/stream_executor/cuda/cuda_fft.cc:607] Unable to register cuFFT factory: Attempting to register factory for plugin cuFFT when one has already been registered\n",
      "2024-11-10 10:51:53.543494: E external/local_xla/xla/stream_executor/cuda/cuda_blas.cc:1515] Unable to register cuBLAS factory: Attempting to register factory for plugin cuBLAS when one has already been registered\n",
      "2024-11-10 10:51:53.626056: I tensorflow/core/platform/cpu_feature_guard.cc:182] This TensorFlow binary is optimized to use available CPU instructions in performance-critical operations.\n",
      "To enable the following instructions: AVX2 AVX_VNNI FMA, in other operations, rebuild TensorFlow with the appropriate compiler flags.\n",
      "2024-11-10 10:51:54.472219: W tensorflow/compiler/tf2tensorrt/utils/py_utils.cc:38] TF-TRT Warning: Could not find TensorRT\n"
     ]
    }
   ],
   "execution_count": 1
  },
  {
   "metadata": {
    "ExecuteTime": {
     "end_time": "2024-11-10T09:03:30.861498Z",
     "start_time": "2024-11-10T09:03:30.857054Z"
    }
   },
   "cell_type": "code",
   "source": "tf.test.is_gpu_available()",
   "id": "fd63bc59b99c7fc3",
   "outputs": [
    {
     "name": "stdout",
     "output_type": "stream",
     "text": [
      "WARNING:tensorflow:From /tmp/ipykernel_13187/2294581100.py:1: is_gpu_available (from tensorflow.python.framework.test_util) is deprecated and will be removed in a future version.\n",
      "Instructions for updating:\n",
      "Use `tf.config.list_physical_devices('GPU')` instead.\n"
     ]
    },
    {
     "name": "stderr",
     "output_type": "stream",
     "text": [
      "2024-11-10 11:03:30.859301: I external/local_xla/xla/stream_executor/cuda/cuda_executor.cc:901] successful NUMA node read from SysFS had negative value (-1), but there must be at least one NUMA node, so returning NUMA node zero. See more at https://github.com/torvalds/linux/blob/v6.0/Documentation/ABI/testing/sysfs-bus-pci#L344-L355\n",
      "2024-11-10 11:03:30.859475: I external/local_xla/xla/stream_executor/cuda/cuda_executor.cc:901] successful NUMA node read from SysFS had negative value (-1), but there must be at least one NUMA node, so returning NUMA node zero. See more at https://github.com/torvalds/linux/blob/v6.0/Documentation/ABI/testing/sysfs-bus-pci#L344-L355\n",
      "2024-11-10 11:03:30.859543: I external/local_xla/xla/stream_executor/cuda/cuda_executor.cc:901] successful NUMA node read from SysFS had negative value (-1), but there must be at least one NUMA node, so returning NUMA node zero. See more at https://github.com/torvalds/linux/blob/v6.0/Documentation/ABI/testing/sysfs-bus-pci#L344-L355\n",
      "2024-11-10 11:03:30.859666: I external/local_xla/xla/stream_executor/cuda/cuda_executor.cc:901] successful NUMA node read from SysFS had negative value (-1), but there must be at least one NUMA node, so returning NUMA node zero. See more at https://github.com/torvalds/linux/blob/v6.0/Documentation/ABI/testing/sysfs-bus-pci#L344-L355\n",
      "2024-11-10 11:03:30.859735: I external/local_xla/xla/stream_executor/cuda/cuda_executor.cc:901] successful NUMA node read from SysFS had negative value (-1), but there must be at least one NUMA node, so returning NUMA node zero. See more at https://github.com/torvalds/linux/blob/v6.0/Documentation/ABI/testing/sysfs-bus-pci#L344-L355\n",
      "2024-11-10 11:03:30.859799: I tensorflow/core/common_runtime/gpu/gpu_device.cc:1929] Created device /device:GPU:0 with 2285 MB memory:  -> device: 0, name: NVIDIA GeForce RTX 3050 Laptop GPU, pci bus id: 0000:01:00.0, compute capability: 8.6\n"
     ]
    },
    {
     "data": {
      "text/plain": [
       "True"
      ]
     },
     "execution_count": 7,
     "metadata": {},
     "output_type": "execute_result"
    }
   ],
   "execution_count": 7
  },
  {
   "metadata": {},
   "cell_type": "markdown",
   "source": "## Full code",
   "id": "4f7d99b27df7a8da"
  },
  {
   "metadata": {
    "ExecuteTime": {
     "end_time": "2024-11-10T09:30:32.066207Z",
     "start_time": "2024-11-10T09:30:32.057289Z"
    }
   },
   "cell_type": "code",
   "source": [
    "FUZZY_COLUMN = 'fuzzy_score'\n",
    "NN_COLUMN = 'nn_score'\n",
    "\n",
    "class AddressComparator:\n",
    "    def __init__(\n",
    "            self,\n",
    "            output_path: str = None,\n",
    "            file_path: str = None,\n",
    "            nn_path: str = None,\n",
    "            method: Literal['nn', 'combo'] = 'combo',  # Specify allowed values for 'method'\n",
    "            save_scores: bool = False\n",
    "    ):\n",
    "        self.file_path = file_path\n",
    "        self.output_path = output_path\n",
    "        self.save_scores = save_scores\n",
    "        self.address_column_names = ('address_1', 'address_2')\n",
    "        self.result_column = 'prediction'\n",
    "        self.df = self._upload_file()\n",
    "        if nn_path:\n",
    "            self.nn = tf.keras.models.load_model(nn_path)\n",
    "            self.fuzzy_only = False\n",
    "        else:\n",
    "            self.fuzzy_only = True\n",
    "        self.char_processed = False\n",
    "        self.fuzzy_threshold_high = 0.85\n",
    "        self.fuzzy_threshold_low = 0.25\n",
    "        self.method = method\n",
    "    \n",
    "    def _check_columns(self, df):\n",
    "        if self.address_column_names[0] not in df.columns or self.address_column_names[1] not in df.columns:\n",
    "            raise ValueError(f\"The DataFrame is missing the following required columns: {self.address_column_names}\")\n",
    "    \n",
    "    def _upload_file(self, *args):    \n",
    "        if len(args) == 1 and isinstance(args[0], pd.DataFrame):\n",
    "            df = args[0]\n",
    "            self._check_columns(df)\n",
    "            self.df = df\n",
    "        elif isinstance(self.file_path, str):\n",
    "            df = pd.read_csv(self.file_path)\n",
    "            self._check_columns(df)\n",
    "            return df\n",
    "        else:\n",
    "            print('no data uploaded!')\n",
    "    \n",
    "    def calculate_fuzzy_scores(self):\n",
    "        self.df[FUZZY_COLUMN] = self.df.apply(\n",
    "            lambda row: calc_similarity_pair_fuzzy(row['address_1'], row['address_2']), axis=1)\n",
    "    \n",
    "    def prepare_data(self):\n",
    "        self.df = df_process_address_chars(self.df)\n",
    "    \n",
    "    def set_same_flag(self):\n",
    "        if self.method == 'combo':\n",
    "            self.df[self.result_column] = np.nan\n",
    "            self.df[self.result_column] = np.where(self.df[FUZZY_COLUMN] > self.fuzzy_threshold_high, 1, np.nan)\n",
    "            self.df[self.result_column] = np.where(\n",
    "                (self.df[FUZZY_COLUMN] < self.fuzzy_threshold_low) & (self.df[self.result_column].isnull()), 0, self.df[self.result_column]\n",
    "            )\n",
    "            if NN_COLUMN in self.df.columns:\n",
    "                self.df[self.result_column] = self.df[self.result_column].fillna((self.df[NN_COLUMN] > 0.5).astype(int))\n",
    "            else:\n",
    "                self.df[self.result_column] = self.df[self.result_column].fillna(0)\n",
    "                \n",
    "        elif self.method == 'nn' and NN_COLUMN in self.df.columns:\n",
    "            self.df[self.result_column] = (self.df[NN_COLUMN] > 0.5).astype(int)\n",
    "        \n",
    "    def run(self):\n",
    "        if not self.char_processed:\n",
    "            self.prepare_data()\n",
    "            self.char_processed = True\n",
    "        self.calculate_fuzzy_scores()\n",
    "        \n",
    "        if self.char_processed and not self.fuzzy_only:\n",
    "            nn_data = df_to_nn_model_input(self.df)\n",
    "            self.df[NN_COLUMN] = self.nn.predict(nn_data)\n",
    "        \n",
    "        self.set_same_flag()\n",
    "        \n",
    "        if self.output_path:\n",
    "            if not self.save_scores:\n",
    "                save_df = self.df[[*self.address_column_names, self.result_column]]\n",
    "                save_df.to_csv(self.output_path)\n",
    "            else:\n",
    "                self.df.to_csv(self.output_path)"
   ],
   "id": "5cac51ba21a0b61e",
   "outputs": [],
   "execution_count": 21
  },
  {
   "metadata": {},
   "cell_type": "markdown",
   "source": "## Test pipeline",
   "id": "2e90781900300a39"
  },
  {
   "metadata": {
    "ExecuteTime": {
     "end_time": "2024-11-10T10:19:27.093777Z",
     "start_time": "2024-11-10T10:19:25.927194Z"
    }
   },
   "cell_type": "code",
   "source": [
    "AC = AddressComparator(nn_path='tf_nn_similarity_model.keras', method='nn')\n",
    "test_df = pd.read_csv('test_data.csv')\n",
    "\n",
    "my_df = pd.DataFrame({\"address_1\":[\n",
    "    \"місто Київ, оболонський р-н, оболонський проспект 19, кв 122\",\n",
    "    \"місто Київ, оболонський р-н, оболонський проспект 19, кв 122\",\n",
    "    \"Луганськ, квартал Лєнінського комсомолу, буд 8а кв 101\",\n",
    "    \"село Варені яйця курячого району, вулиця жовткова, буд 88к1\"\n",
    "],\n",
    "    \"address_2\":[\n",
    "        \"місто Київ, святошинський район, вул вацлава гавела 2, кв 3\",\n",
    "        \"місто Київ, оболонський р-н, оболонський проспект 12, кв 77\",\n",
    "        \"м. Луганськ кв. лєнінського комсомолу, б 8-а квартира 101\",\n",
    "        \"район курячій, с. Варені яйця , в. жовткова, будинок 88к1\"\n",
    "    ]})\n",
    "\n",
    "AC._upload_file(my_df)\n",
    "AC.run()"
   ],
   "id": "bda7805648d2dfba",
   "outputs": [
    {
     "name": "stdout",
     "output_type": "stream",
     "text": [
      "no data uploaded!\n",
      "1/1 [==============================] - 1s 627ms/step\n"
     ]
    }
   ],
   "execution_count": 28
  },
  {
   "metadata": {
    "ExecuteTime": {
     "end_time": "2024-11-10T10:19:37.463721Z",
     "start_time": "2024-11-10T10:19:37.455832Z"
    }
   },
   "cell_type": "code",
   "source": "AC.df",
   "id": "c41e5bd1892cac43",
   "outputs": [
    {
     "data": {
      "text/plain": [
       "                                           address_1  \\\n",
       "0  місто київ, оболонський р-н, оболонський просп...   \n",
       "1  місто київ, оболонський р-н, оболонський просп...   \n",
       "2  луганськ, квартал лєнінського комсомолу, буд 8...   \n",
       "3  село варені яйця курячого району, вулиця жовтк...   \n",
       "\n",
       "                                           address_2  fuzzy_score  nn_score  \\\n",
       "0  місто київ, святошинський район, вул вацлава г...         0.56  0.028187   \n",
       "1  місто київ, оболонський р-н, оболонський просп...         0.95  0.015254   \n",
       "2  м. луганськ кв. лєнінського комсомолу, б 8-а к...         0.85  0.995464   \n",
       "3  район курячій, с. варені яйця , в. жовткова, б...         0.63  0.982835   \n",
       "\n",
       "   prediction  \n",
       "0           0  \n",
       "1           0  \n",
       "2           1  \n",
       "3           1  "
      ],
      "text/html": [
       "<div>\n",
       "<style scoped>\n",
       "    .dataframe tbody tr th:only-of-type {\n",
       "        vertical-align: middle;\n",
       "    }\n",
       "\n",
       "    .dataframe tbody tr th {\n",
       "        vertical-align: top;\n",
       "    }\n",
       "\n",
       "    .dataframe thead th {\n",
       "        text-align: right;\n",
       "    }\n",
       "</style>\n",
       "<table border=\"1\" class=\"dataframe\">\n",
       "  <thead>\n",
       "    <tr style=\"text-align: right;\">\n",
       "      <th></th>\n",
       "      <th>address_1</th>\n",
       "      <th>address_2</th>\n",
       "      <th>fuzzy_score</th>\n",
       "      <th>nn_score</th>\n",
       "      <th>prediction</th>\n",
       "    </tr>\n",
       "  </thead>\n",
       "  <tbody>\n",
       "    <tr>\n",
       "      <th>0</th>\n",
       "      <td>місто київ, оболонський р-н, оболонський просп...</td>\n",
       "      <td>місто київ, святошинський район, вул вацлава г...</td>\n",
       "      <td>0.56</td>\n",
       "      <td>0.028187</td>\n",
       "      <td>0</td>\n",
       "    </tr>\n",
       "    <tr>\n",
       "      <th>1</th>\n",
       "      <td>місто київ, оболонський р-н, оболонський просп...</td>\n",
       "      <td>місто київ, оболонський р-н, оболонський просп...</td>\n",
       "      <td>0.95</td>\n",
       "      <td>0.015254</td>\n",
       "      <td>0</td>\n",
       "    </tr>\n",
       "    <tr>\n",
       "      <th>2</th>\n",
       "      <td>луганськ, квартал лєнінського комсомолу, буд 8...</td>\n",
       "      <td>м. луганськ кв. лєнінського комсомолу, б 8-а к...</td>\n",
       "      <td>0.85</td>\n",
       "      <td>0.995464</td>\n",
       "      <td>1</td>\n",
       "    </tr>\n",
       "    <tr>\n",
       "      <th>3</th>\n",
       "      <td>село варені яйця курячого району, вулиця жовтк...</td>\n",
       "      <td>район курячій, с. варені яйця , в. жовткова, б...</td>\n",
       "      <td>0.63</td>\n",
       "      <td>0.982835</td>\n",
       "      <td>1</td>\n",
       "    </tr>\n",
       "  </tbody>\n",
       "</table>\n",
       "</div>"
      ]
     },
     "execution_count": 29,
     "metadata": {},
     "output_type": "execute_result"
    }
   ],
   "execution_count": 29
  },
  {
   "metadata": {},
   "cell_type": "markdown",
   "source": "## Check runtime",
   "id": "21fce605c8be540a"
  },
  {
   "metadata": {
    "ExecuteTime": {
     "end_time": "2024-11-10T09:05:37.164641Z",
     "start_time": "2024-11-10T09:05:37.152899Z"
    }
   },
   "cell_type": "code",
   "source": "test_df_big = pd.concat([test_df for _ in range(1000)], ignore_index=True)",
   "id": "77b334ce0e956efb",
   "outputs": [],
   "execution_count": 8
  },
  {
   "metadata": {
    "ExecuteTime": {
     "end_time": "2024-11-10T09:05:42.601939Z",
     "start_time": "2024-11-10T09:05:42.599082Z"
    }
   },
   "cell_type": "code",
   "source": "test_df_big.shape",
   "id": "96b865612193626e",
   "outputs": [
    {
     "data": {
      "text/plain": [
       "(320000, 3)"
      ]
     },
     "execution_count": 9,
     "metadata": {},
     "output_type": "execute_result"
    }
   ],
   "execution_count": 9
  },
  {
   "metadata": {
    "ExecuteTime": {
     "end_time": "2024-11-10T09:15:52.026210Z",
     "start_time": "2024-11-10T09:13:10.193076Z"
    }
   },
   "cell_type": "code",
   "source": [
    "import time\n",
    "\n",
    "start_time_combo = time.time()\n",
    "AC_combo = AddressComparator(nn_path='tf_nn_similarity_model.keras', method='combo')\n",
    "AC_combo._upload_file(test_df_big)\n",
    "AC_combo.run()\n",
    "end_time_combo = time.time()\n",
    "runtime = end_time_combo - start_time_combo\n",
    "print(f\"Runtime combo : {runtime:.2f} seconds\")\n",
    "\n",
    "start_time_nn = time.time()\n",
    "AC_nn = AddressComparator(nn_path='tf_nn_similarity_model.keras', method='nn')\n",
    "AC_nn._upload_file(test_df_big)\n",
    "AC_nn.run()\n",
    "end_time_nn = time.time()\n",
    "runtime = end_time_nn - start_time_nn\n",
    "print(f\"Runtime nn : {runtime:.2f} seconds\")"
   ],
   "id": "8e40f494aac99ed",
   "outputs": [
    {
     "name": "stdout",
     "output_type": "stream",
     "text": [
      "no data uploaded!\n",
      "10000/10000 [==============================] - 62s 6ms/step\n",
      "Runtime combo : 81.45 seconds\n",
      "no data uploaded!\n",
      "10000/10000 [==============================] - 61s 6ms/step\n",
      "Runtime nn : 80.38 seconds\n"
     ]
    }
   ],
   "execution_count": 12
  },
  {
   "metadata": {},
   "cell_type": "markdown",
   "source": "## fuzzy_score analytics ",
   "id": "93e29c58c12197fb"
  },
  {
   "metadata": {
    "ExecuteTime": {
     "end_time": "2024-11-10T09:31:04.253638Z",
     "start_time": "2024-11-10T09:31:02.662509Z"
    }
   },
   "cell_type": "code",
   "source": [
    "import matplotlib.pyplot as plt\n",
    "import seaborn as sns\n",
    "\n",
    "AC = AddressComparator(nn_path='tf_nn_similarity_model.keras', method='combo')\n",
    "test_df = pd.read_csv('test_data.csv')\n",
    "AC._upload_file(test_df)\n",
    "AC.run()\n",
    "\n",
    "df = AC.df\n",
    "# Plot histograms for each subset of `is_same`\n",
    "plt.figure(figsize=(14, 6))\n",
    "\n",
    "# Plot for is_same == True\n",
    "sns.histplot(df[df['is_same'] == True]['fuzzy_score'], bins=10, kde=True, color='blue', label='is_same=True', alpha=0.7)\n",
    "\n",
    "# Plot for is_same == False\n",
    "sns.histplot(df[df['is_same'] == False]['fuzzy_score'], bins=10, kde=True, color='red', label='is_same=False', alpha=0.7)\n",
    "\n",
    "# Add labels and title\n",
    "plt.xlabel('Fuzzy Score')\n",
    "plt.ylabel('Frequency')\n",
    "plt.title('Histogram of Fuzzy Score for Each is_same Subset')\n",
    "plt.legend()\n",
    "\n",
    "# Show the plot\n",
    "plt.show()"
   ],
   "id": "9489edd983e399ae",
   "outputs": [
    {
     "name": "stdout",
     "output_type": "stream",
     "text": [
      "no data uploaded!\n",
      "WARNING:tensorflow:6 out of the last 10005 calls to <function Model.make_predict_function.<locals>.predict_function at 0x77d175cf6f20> triggered tf.function retracing. Tracing is expensive and the excessive number of tracings could be due to (1) creating @tf.function repeatedly in a loop, (2) passing tensors with different shapes, (3) passing Python objects instead of tensors. For (1), please define your @tf.function outside of the loop. For (2), @tf.function has reduce_retracing=True option that can avoid unnecessary retracing. For (3), please refer to https://www.tensorflow.org/guide/function#controlling_retracing and https://www.tensorflow.org/api_docs/python/tf/function for  more details.\n",
      "10/10 [==============================] - 1s 8ms/step\n"
     ]
    },
    {
     "data": {
      "text/plain": [
       "<Figure size 1400x600 with 1 Axes>"
      ],
      "image/png": "[encoded data removed]"
     },
     "metadata": {},
     "output_type": "display_data"
    }
   ],
   "execution_count": 23
  },
  {
   "metadata": {
    "ExecuteTime": {
     "end_time": "2024-11-10T09:31:34.635616Z",
     "start_time": "2024-11-10T09:31:34.629763Z"
    }
   },
   "cell_type": "code",
   "source": "df[df['is_same'] != df['prediction']]  ## WRONG PREDICTIONS",
   "id": "f5a3099553e56068",
   "outputs": [
    {
     "data": {
      "text/plain": [
       "                                             address_1  \\\n",
       "23   донецька обл., м.словянськ, вул.василевського,...   \n",
       "152  київська обл., село погреби, вул.кірова, буд 2...   \n",
       "154  житомирьска обл., богунський р-н, м.житомир, в...   \n",
       "174       03148, м.київ, просп.курбаса леся, 9, кв.345   \n",
       "179  росйська федераця, москва, вул.новолісна, 17а,...   \n",
       "262  96300, автономна республіка крим, первомайськи...   \n",
       "299  42081, сумська обл., роменський р-н, с.глинськ...   \n",
       "312                                              луцьк   \n",
       "313                                              львів   \n",
       "314                                            донецьк   \n",
       "\n",
       "                                             address_2  is_same  fuzzy_score  \\\n",
       "23   чернівецька обл., місто чернівці вулиця універ...    False         0.53   \n",
       "152  київська обл., броварський район, село погреби...     True         0.71   \n",
       "154  10020, вул. максютова, 18, кв.3, м.житомир, бо...     True         0.62   \n",
       "174  03148, місто київ, проспект курбаса леся, буди...     True         0.75   \n",
       "179  росйська федераця, москва, вулиця новолісна бу...     True         0.83   \n",
       "262  96300, автономна республіка крим, первомайськи...     True         0.79   \n",
       "299  сумська обл., с.глинськ, вулиця адмірала кулик...     True         0.76   \n",
       "312                                              львів    False         0.40   \n",
       "313                                              луцьк    False         0.40   \n",
       "314                                             дніпро    False         0.33   \n",
       "\n",
       "     nn_score  prediction  \n",
       "23   0.639869         1.0  \n",
       "152  0.034065         0.0  \n",
       "154  0.498143         0.0  \n",
       "174  0.007580         0.0  \n",
       "179  0.115050         0.0  \n",
       "262  0.027115         0.0  \n",
       "299  0.058005         0.0  \n",
       "312  0.977155         1.0  \n",
       "313  0.974106         1.0  \n",
       "314  0.983430         1.0  "
      ],
      "text/html": [
       "<div>\n",
       "<style scoped>\n",
       "    .dataframe tbody tr th:only-of-type {\n",
       "        vertical-align: middle;\n",
       "    }\n",
       "\n",
       "    .dataframe tbody tr th {\n",
       "        vertical-align: top;\n",
       "    }\n",
       "\n",
       "    .dataframe thead th {\n",
       "        text-align: right;\n",
       "    }\n",
       "</style>\n",
       "<table border=\"1\" class=\"dataframe\">\n",
       "  <thead>\n",
       "    <tr style=\"text-align: right;\">\n",
       "      <th></th>\n",
       "      <th>address_1</th>\n",
       "      <th>address_2</th>\n",
       "      <th>is_same</th>\n",
       "      <th>fuzzy_score</th>\n",
       "      <th>nn_score</th>\n",
       "      <th>prediction</th>\n",
       "    </tr>\n",
       "  </thead>\n",
       "  <tbody>\n",
       "    <tr>\n",
       "      <th>23</th>\n",
       "      <td>донецька обл., м.словянськ, вул.василевського,...</td>\n",
       "      <td>чернівецька обл., місто чернівці вулиця універ...</td>\n",
       "      <td>False</td>\n",
       "      <td>0.53</td>\n",
       "      <td>0.639869</td>\n",
       "      <td>1.0</td>\n",
       "    </tr>\n",
       "    <tr>\n",
       "      <th>152</th>\n",
       "      <td>київська обл., село погреби, вул.кірова, буд 2...</td>\n",
       "      <td>київська обл., броварський район, село погреби...</td>\n",
       "      <td>True</td>\n",
       "      <td>0.71</td>\n",
       "      <td>0.034065</td>\n",
       "      <td>0.0</td>\n",
       "    </tr>\n",
       "    <tr>\n",
       "      <th>154</th>\n",
       "      <td>житомирьска обл., богунський р-н, м.житомир, в...</td>\n",
       "      <td>10020, вул. максютова, 18, кв.3, м.житомир, бо...</td>\n",
       "      <td>True</td>\n",
       "      <td>0.62</td>\n",
       "      <td>0.498143</td>\n",
       "      <td>0.0</td>\n",
       "    </tr>\n",
       "    <tr>\n",
       "      <th>174</th>\n",
       "      <td>03148, м.київ, просп.курбаса леся, 9, кв.345</td>\n",
       "      <td>03148, місто київ, проспект курбаса леся, буди...</td>\n",
       "      <td>True</td>\n",
       "      <td>0.75</td>\n",
       "      <td>0.007580</td>\n",
       "      <td>0.0</td>\n",
       "    </tr>\n",
       "    <tr>\n",
       "      <th>179</th>\n",
       "      <td>росйська федераця, москва, вул.новолісна, 17а,...</td>\n",
       "      <td>росйська федераця, москва, вулиця новолісна бу...</td>\n",
       "      <td>True</td>\n",
       "      <td>0.83</td>\n",
       "      <td>0.115050</td>\n",
       "      <td>0.0</td>\n",
       "    </tr>\n",
       "    <tr>\n",
       "      <th>262</th>\n",
       "      <td>96300, автономна республіка крим, первомайськи...</td>\n",
       "      <td>96300, автономна республіка крим, первомайськи...</td>\n",
       "      <td>True</td>\n",
       "      <td>0.79</td>\n",
       "      <td>0.027115</td>\n",
       "      <td>0.0</td>\n",
       "    </tr>\n",
       "    <tr>\n",
       "      <th>299</th>\n",
       "      <td>42081, сумська обл., роменський р-н, с.глинськ...</td>\n",
       "      <td>сумська обл., с.глинськ, вулиця адмірала кулик...</td>\n",
       "      <td>True</td>\n",
       "      <td>0.76</td>\n",
       "      <td>0.058005</td>\n",
       "      <td>0.0</td>\n",
       "    </tr>\n",
       "    <tr>\n",
       "      <th>312</th>\n",
       "      <td>луцьк</td>\n",
       "      <td>львів</td>\n",
       "      <td>False</td>\n",
       "      <td>0.40</td>\n",
       "      <td>0.977155</td>\n",
       "      <td>1.0</td>\n",
       "    </tr>\n",
       "    <tr>\n",
       "      <th>313</th>\n",
       "      <td>львів</td>\n",
       "      <td>луцьк</td>\n",
       "      <td>False</td>\n",
       "      <td>0.40</td>\n",
       "      <td>0.974106</td>\n",
       "      <td>1.0</td>\n",
       "    </tr>\n",
       "    <tr>\n",
       "      <th>314</th>\n",
       "      <td>донецьк</td>\n",
       "      <td>дніпро</td>\n",
       "      <td>False</td>\n",
       "      <td>0.33</td>\n",
       "      <td>0.983430</td>\n",
       "      <td>1.0</td>\n",
       "    </tr>\n",
       "  </tbody>\n",
       "</table>\n",
       "</div>"
      ]
     },
     "execution_count": 25,
     "metadata": {},
     "output_type": "execute_result"
    }
   ],
   "execution_count": 25
  },
  {
   "metadata": {},
   "cell_type": "markdown",
   "source": "## Accuracy analytics",
   "id": "4307951d87d11b66"
  },
  {
   "metadata": {
    "ExecuteTime": {
     "end_time": "2024-11-10T09:33:18.786778Z",
     "start_time": "2024-11-10T09:33:18.783220Z"
    }
   },
   "cell_type": "code",
   "source": "len(df[df['is_same'] == df['prediction']])/len(df)",
   "id": "1a67f62208f6ad51",
   "outputs": [
    {
     "data": {
      "text/plain": [
       "0.96875"
      ]
     },
     "execution_count": 26,
     "metadata": {},
     "output_type": "execute_result"
    }
   ],
   "execution_count": 26
  },
  {
   "metadata": {
    "ExecuteTime": {
     "end_time": "2024-11-10T09:33:26.703313Z",
     "start_time": "2024-11-10T09:33:26.539573Z"
    }
   },
   "cell_type": "code",
   "source": [
    "from sklearn.metrics import confusion_matrix\n",
    "import seaborn as sns\n",
    "import matplotlib.pyplot as plt\n",
    "\n",
    "# Compute the confusion matrix\n",
    "cm = confusion_matrix(df['is_same'], df['prediction'])\n",
    "# Plotting using seaborn\n",
    "plt.figure(figsize=(8, 6))\n",
    "sns.heatmap(cm, annot=True, fmt='d', cmap='Blues', xticklabels=['Predicted 0', 'Predicted 1'], yticklabels=['Actual 0', 'Actual 1'])\n",
    "plt.ylabel('Actual')\n",
    "plt.xlabel('Predicted')\n",
    "plt.title('Confusion Matrix token set ratio with source')\n",
    "plt.show()"
   ],
   "id": "4308a3764fef83b6",
   "outputs": [
    {
     "data": {
      "text/plain": [
       "<Figure size 800x600 with 2 Axes>"
      ],
      "image/png": "[encoded data removed]"
     },
     "metadata": {},
     "output_type": "display_data"
    }
   ],
   "execution_count": 27
  }
 ],
 "metadata": {
  "kernelspec": {
   "display_name": "Python 3",
   "language": "python",
   "name": "python3"
  },
  "language_info": {
   "codemirror_mode": {
    "name": "ipython",
    "version": 2
   },
   "file_extension": ".py",
   "mimetype": "text/x-python",
   "name": "python",
   "nbconvert_exporter": "python",
   "pygments_lexer": "ipython2",
   "version": "2.7.6"
  }
 },
 "nbformat": 4,
 "nbformat_minor": 5
}
